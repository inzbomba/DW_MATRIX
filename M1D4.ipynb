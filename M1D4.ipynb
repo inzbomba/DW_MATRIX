{
  "nbformat": 4,
  "nbformat_minor": 0,
  "metadata": {
    "colab": {
      "name": "M1D4.ipynb",
      "provenance": [],
      "collapsed_sections": [],
      "mount_file_id": "1iyJPUpPbSXvkqzzjHJPy2L_NaibYgqi0",
      "authorship_tag": "ABX9TyOclYtzKGOd679xvauuqBwf",
      "include_colab_link": true
    },
    "kernelspec": {
      "name": "python3",
      "display_name": "Python 3"
    }
  },
  "cells": [
    {
      "cell_type": "markdown",
      "metadata": {
        "id": "view-in-github",
        "colab_type": "text"
      },
      "source": [
        "<a href=\"https://colab.research.google.com/github/inzbomba/DW_MATRIX/blob/master/M1D4.ipynb\" target=\"_parent\"><img src=\"https://colab.research.google.com/assets/colab-badge.svg\" alt=\"Open In Colab\"/></a>"
      ]
    },
    {
      "cell_type": "code",
      "metadata": {
        "id": "C8dvP1CEMj0I",
        "colab_type": "code",
        "colab": {}
      },
      "source": [
        "import pandas as pd\n",
        "import numpy as np\n",
        "from sklearn.tree import DecisionTreeRegressor\n",
        "from sklearn.metrics import  mean_absolute_error\n",
        "from sklearn.model_selection import  cross_val_score\n",
        "from google.colab import drive"
      ],
      "execution_count": 0,
      "outputs": []
    },
    {
      "cell_type": "code",
      "metadata": {
        "id": "GWNj2FrDNI68",
        "colab_type": "code",
        "colab": {
          "base_uri": "https://localhost:8080/",
          "height": 34
        },
        "outputId": "dd143f1d-a0e1-4b96-88cf-49f1b1e39bf1"
      },
      "source": [
        "cd \"/content/drive/My Drive/Colab Notebooks/DW_MATRIX\""
      ],
      "execution_count": 73,
      "outputs": [
        {
          "output_type": "stream",
          "text": [
            "/content/drive/My Drive/Colab Notebooks/DW_MATRIX\n"
          ],
          "name": "stdout"
        }
      ]
    },
    {
      "cell_type": "code",
      "metadata": {
        "id": "4cVIabRiki5q",
        "colab_type": "code",
        "colab": {
          "base_uri": "https://localhost:8080/",
          "height": 34
        },
        "outputId": "2937d53c-6191-43d3-b025-70149c135751"
      },
      "source": [
        "ls\n"
      ],
      "execution_count": 74,
      "outputs": [
        {
          "output_type": "stream",
          "text": [
            "ConnectGithub.ipynb  \u001b[0m\u001b[01;34mdata\u001b[0m/  LICENSE  \u001b[01;34mmatrix_one\u001b[0m/  README.md\n"
          ],
          "name": "stdout"
        }
      ]
    },
    {
      "cell_type": "code",
      "metadata": {
        "id": "zGJCpYcuSBM8",
        "colab_type": "code",
        "colab": {
          "base_uri": "https://localhost:8080/",
          "height": 34
        },
        "outputId": "9dfdcb49-463e-4959-d4fb-15e03cd5ca24"
      },
      "source": [
        "ls data/"
      ],
      "execution_count": 3,
      "outputs": [
        {
          "output_type": "stream",
          "text": [
            "men_shoes.csv\n"
          ],
          "name": "stdout"
        }
      ]
    },
    {
      "cell_type": "code",
      "metadata": {
        "id": "eTRJgQN9SRhp",
        "colab_type": "code",
        "colab": {
          "base_uri": "https://localhost:8080/",
          "height": 34
        },
        "outputId": "cf9f607a-0b0c-4456-c19b-bac9acf637e3"
      },
      "source": [
        "df = pd.read_csv('data/men_shoes.csv', low_memory=False)\n",
        "df.shape"
      ],
      "execution_count": 10,
      "outputs": [
        {
          "output_type": "execute_result",
          "data": {
            "text/plain": [
              "(18280, 48)"
            ]
          },
          "metadata": {
            "tags": []
          },
          "execution_count": 10
        }
      ]
    },
    {
      "cell_type": "code",
      "metadata": {
        "id": "U8bP8zu8SVhB",
        "colab_type": "code",
        "colab": {
          "base_uri": "https://localhost:8080/",
          "height": 218
        },
        "outputId": "e36315d8-1148-4c9e-a955-40706bbb01c5"
      },
      "source": [
        "df.columns"
      ],
      "execution_count": 6,
      "outputs": [
        {
          "output_type": "execute_result",
          "data": {
            "text/plain": [
              "Index(['id', 'asins', 'brand', 'categories', 'colors', 'count', 'dateadded',\n",
              "       'dateupdated', 'descriptions', 'dimension', 'ean', 'features',\n",
              "       'flavors', 'imageurls', 'isbn', 'keys', 'manufacturer',\n",
              "       'manufacturernumber', 'merchants', 'name', 'prices_amountmin',\n",
              "       'prices_amountmax', 'prices_availability', 'prices_color',\n",
              "       'prices_condition', 'prices_count', 'prices_currency',\n",
              "       'prices_dateadded', 'prices_dateseen', 'prices_flavor', 'prices_issale',\n",
              "       'prices_merchant', 'prices_offer', 'prices_returnpolicy',\n",
              "       'prices_shipping', 'prices_size', 'prices_source', 'prices_sourceurls',\n",
              "       'prices_warranty', 'quantities', 'reviews', 'sizes', 'skus',\n",
              "       'sourceurls', 'upc', 'vin', 'websiteids', 'weight'],\n",
              "      dtype='object')"
            ]
          },
          "metadata": {
            "tags": []
          },
          "execution_count": 6
        }
      ]
    },
    {
      "cell_type": "code",
      "metadata": {
        "id": "ep7EiAvWSi91",
        "colab_type": "code",
        "colab": {
          "base_uri": "https://localhost:8080/",
          "height": 34
        },
        "outputId": "6489e342-e46f-45d3-cea1-ee39c45f7432"
      },
      "source": [
        "mean_price = np.mean(df['prices_amountmin'])\n",
        "mean_price"
      ],
      "execution_count": 11,
      "outputs": [
        {
          "output_type": "execute_result",
          "data": {
            "text/plain": [
              "93.53952188183217"
            ]
          },
          "metadata": {
            "tags": []
          },
          "execution_count": 11
        }
      ]
    },
    {
      "cell_type": "code",
      "metadata": {
        "id": "SAnLk3rWS0QP",
        "colab_type": "code",
        "colab": {
          "base_uri": "https://localhost:8080/",
          "height": 34
        },
        "outputId": "b12d3540-6316-492c-f055-ab3fa79027e8"
      },
      "source": [
        "# listowanie n razy [1]*5"
      ],
      "execution_count": 12,
      "outputs": [
        {
          "output_type": "execute_result",
          "data": {
            "text/plain": [
              "[1, 1, 1, 1, 1]"
            ]
          },
          "metadata": {
            "tags": []
          },
          "execution_count": 12
        }
      ]
    },
    {
      "cell_type": "code",
      "metadata": {
        "id": "4oF8sdsvTkFB",
        "colab_type": "code",
        "colab": {
          "base_uri": "https://localhost:8080/",
          "height": 34
        },
        "outputId": "9dffc15c-6dc3-4500-d6ec-b28a1827af32"
      },
      "source": [
        "y_true = df['prices_amountmin']\n",
        "y_pred = [mean_price] * y_true.shape[0]\n",
        "\n",
        "mean_absolute_error(y_true, y_pred)"
      ],
      "execution_count": 13,
      "outputs": [
        {
          "output_type": "execute_result",
          "data": {
            "text/plain": [
              "63.968341227870624"
            ]
          },
          "metadata": {
            "tags": []
          },
          "execution_count": 13
        }
      ]
    },
    {
      "cell_type": "code",
      "metadata": {
        "id": "BiagKn48UVSx",
        "colab_type": "code",
        "colab": {
          "base_uri": "https://localhost:8080/",
          "height": 282
        },
        "outputId": "24262080-5e22-4851-9723-b8cba271d6fa"
      },
      "source": [
        " df['prices_amountmin'].hist(bins =100)"
      ],
      "execution_count": 14,
      "outputs": [
        {
          "output_type": "execute_result",
          "data": {
            "text/plain": [
              "<matplotlib.axes._subplots.AxesSubplot at 0x7f62fe909860>"
            ]
          },
          "metadata": {
            "tags": []
          },
          "execution_count": 14
        },
        {
          "output_type": "display_data",
          "data": {
            "image/png": "[encoded data removed]",
            "text/plain": [
              "<Figure size 432x288 with 1 Axes>"
            ]
          },
          "metadata": {
            "tags": []
          }
        }
      ]
    },
    {
      "cell_type": "code",
      "metadata": {
        "id": "d1n5RScxUv34",
        "colab_type": "code",
        "colab": {
          "base_uri": "https://localhost:8080/",
          "height": 282
        },
        "outputId": "def24012-34e5-4a4f-d233-1317b2313150"
      },
      "source": [
        "np.log1p( df['prices_amountmin']).hist(bins =100)"
      ],
      "execution_count": 17,
      "outputs": [
        {
          "output_type": "execute_result",
          "data": {
            "text/plain": [
              "<matplotlib.axes._subplots.AxesSubplot at 0x7f62fc85ebe0>"
            ]
          },
          "metadata": {
            "tags": []
          },
          "execution_count": 17
        },
        {
          "output_type": "display_data",
          "data": {
            "image/png": "[encoded data removed]",
            "text/plain": [
              "<Figure size 432x288 with 1 Axes>"
            ]
          },
          "metadata": {
            "tags": []
          }
        }
      ]
    },
    {
      "cell_type": "code",
      "metadata": {
        "id": "KWlE6LVYVD_R",
        "colab_type": "code",
        "colab": {
          "base_uri": "https://localhost:8080/",
          "height": 34
        },
        "outputId": "5784b107-dfbe-4bb2-d156-5b84ce68f24b"
      },
      "source": [
        "y_true = df['prices_amountmin']\n",
        "y_pred = [np.median(y_true)] * y_true.shape[0]\n",
        "\n",
        "mean_absolute_error(y_true, y_pred)"
      ],
      "execution_count": 18,
      "outputs": [
        {
          "output_type": "execute_result",
          "data": {
            "text/plain": [
              "58.01120240700219"
            ]
          },
          "metadata": {
            "tags": []
          },
          "execution_count": 18
        }
      ]
    },
    {
      "cell_type": "code",
      "metadata": {
        "id": "lQAIEHRrVdVJ",
        "colab_type": "code",
        "colab": {
          "base_uri": "https://localhost:8080/",
          "height": 34
        },
        "outputId": "98c3fb97-7b43-44b9-acea-78c8f325a18e"
      },
      "source": [
        "np.median(y_true)\n"
      ],
      "execution_count": 19,
      "outputs": [
        {
          "output_type": "execute_result",
          "data": {
            "text/plain": [
              "64.95"
            ]
          },
          "metadata": {
            "tags": []
          },
          "execution_count": 19
        }
      ]
    },
    {
      "cell_type": "code",
      "metadata": {
        "id": "Nubar1lAVwXx",
        "colab_type": "code",
        "colab": {}
      },
      "source": [
        "# y_true = df['prices_amountmin']\n",
        "# price_log_mean = np.expm1(np.mean(np.log1p(y_true)))\n",
        "# y_pred = [np.median(y_true)] * y_true.shape[0]\n",
        "\n",
        "# mean_absolute_error(y_true, y_pred)"
      ],
      "execution_count": 0,
      "outputs": []
    },
    {
      "cell_type": "code",
      "metadata": {
        "id": "2SGv52O6V-pZ",
        "colab_type": "code",
        "colab": {
          "base_uri": "https://localhost:8080/",
          "height": 34
        },
        "outputId": "72e175ce-f0f0-4692-c1fb-29ae92b53869"
      },
      "source": [
        "np.exp(np.mean(np.log1p(y_true))) -1"
      ],
      "execution_count": 23,
      "outputs": [
        {
          "output_type": "execute_result",
          "data": {
            "text/plain": [
              "62.92811169273113"
            ]
          },
          "metadata": {
            "tags": []
          },
          "execution_count": 23
        }
      ]
    },
    {
      "cell_type": "code",
      "metadata": {
        "id": "6P5y-y8TWHKH",
        "colab_type": "code",
        "colab": {
          "base_uri": "https://localhost:8080/",
          "height": 218
        },
        "outputId": "7dcaceaf-1a84-4578-eae4-d28adef16752"
      },
      "source": [
        "df.columns"
      ],
      "execution_count": 26,
      "outputs": [
        {
          "output_type": "execute_result",
          "data": {
            "text/plain": [
              "Index(['id', 'asins', 'brand', 'categories', 'colors', 'count', 'dateadded',\n",
              "       'dateupdated', 'descriptions', 'dimension', 'ean', 'features',\n",
              "       'flavors', 'imageurls', 'isbn', 'keys', 'manufacturer',\n",
              "       'manufacturernumber', 'merchants', 'name', 'prices_amountmin',\n",
              "       'prices_amountmax', 'prices_availability', 'prices_color',\n",
              "       'prices_condition', 'prices_count', 'prices_currency',\n",
              "       'prices_dateadded', 'prices_dateseen', 'prices_flavor', 'prices_issale',\n",
              "       'prices_merchant', 'prices_offer', 'prices_returnpolicy',\n",
              "       'prices_shipping', 'prices_size', 'prices_source', 'prices_sourceurls',\n",
              "       'prices_warranty', 'quantities', 'reviews', 'sizes', 'skus',\n",
              "       'sourceurls', 'upc', 'vin', 'websiteids', 'weight'],\n",
              "      dtype='object')"
            ]
          },
          "metadata": {
            "tags": []
          },
          "execution_count": 26
        }
      ]
    },
    {
      "cell_type": "code",
      "metadata": {
        "id": "bGiVnMuHWqLM",
        "colab_type": "code",
        "colab": {}
      },
      "source": [
        "#df.brand.value_counts()"
      ],
      "execution_count": 0,
      "outputs": []
    },
    {
      "cell_type": "code",
      "metadata": {
        "id": "rtaUVViLWv_h",
        "colab_type": "code",
        "colab": {}
      },
      "source": [
        "# df['brand_cat'] = df['brand'].factorize()[0]"
      ],
      "execution_count": 0,
      "outputs": []
    },
    {
      "cell_type": "code",
      "metadata": {
        "id": "wCxWBA_jXKMs",
        "colab_type": "code",
        "colab": {}
      },
      "source": [
        "# feats = ['brand_cat']\n",
        "# def run_model(feats):\n",
        "#   X = df[ feats ].values\n",
        "#   y = df['prices_amountmin'].values\n",
        "\n",
        "#   model = DecisionTreeRegressor(max_depth=5)\n",
        "\n",
        "#   scores =  cross_val_score(model, X, y, scoring='neg_mean_absolute_error')\n",
        "#   return np.mean(scores), np.std(scores)"
      ],
      "execution_count": 0,
      "outputs": []
    },
    {
      "cell_type": "code",
      "metadata": {
        "id": "jR8eSdr3X-FB",
        "colab_type": "code",
        "colab": {
          "base_uri": "https://localhost:8080/",
          "height": 34
        },
        "outputId": "1f8da453-688e-4604-eba7-71a59bea17c9"
      },
      "source": [
        "# run_model(['brand_cat'])"
      ],
      "execution_count": 45,
      "outputs": [
        {
          "output_type": "execute_result",
          "data": {
            "text/plain": [
              "(-58.38655694633361, 4.223555478221712)"
            ]
          },
          "metadata": {
            "tags": []
          },
          "execution_count": 45
        }
      ]
    },
    {
      "cell_type": "code",
      "metadata": {
        "id": "JNT0mmBjbI1H",
        "colab_type": "code",
        "colab": {}
      },
      "source": [
        "df['manufacturer_cat'] = df['manufacturer'].factorize()[0]\n",
        "df['colors_cat'] = df['colors'].factorize()[0]\n",
        "df['reviews_cat'] = df['reviews'].factorize()[0]\n"
      ],
      "execution_count": 0,
      "outputs": []
    },
    {
      "cell_type": "code",
      "metadata": {
        "id": "IRIh9uVNdGOM",
        "colab_type": "code",
        "colab": {}
      },
      "source": [
        "#feats = ['manufacturer_cat']\n",
        "def run_model(feats):\n",
        "  X = df[ feats ].values\n",
        "  y = df['prices_amountmin'].values\n",
        "\n",
        "  model = DecisionTreeRegressor(max_depth=5)\n",
        "\n",
        "  scores =  cross_val_score(model, X, y, scoring='neg_mean_absolute_error')\n",
        "  return np.mean(scores), np.std(scores)"
      ],
      "execution_count": 0,
      "outputs": []
    },
    {
      "cell_type": "code",
      "metadata": {
        "id": "qPpvTe0QdJMa",
        "colab_type": "code",
        "colab": {
          "base_uri": "https://localhost:8080/",
          "height": 34
        },
        "outputId": "d3e02909-bc3f-451d-8e7d-75691e387e7b"
      },
      "source": [
        "run_model(['manufacturer_cat'])"
      ],
      "execution_count": 54,
      "outputs": [
        {
          "output_type": "execute_result",
          "data": {
            "text/plain": [
              "(-63.133649278023746, 3.394307434888982)"
            ]
          },
          "metadata": {
            "tags": []
          },
          "execution_count": 54
        }
      ]
    },
    {
      "cell_type": "code",
      "metadata": {
        "id": "rJA697RKdzOE",
        "colab_type": "code",
        "colab": {
          "base_uri": "https://localhost:8080/",
          "height": 34
        },
        "outputId": "52db97e1-6742-4d07-f7c2-47b1ef91424e"
      },
      "source": [
        "run_model(['manufacturer_cat','colors_cat' ])"
      ],
      "execution_count": 57,
      "outputs": [
        {
          "output_type": "execute_result",
          "data": {
            "text/plain": [
              "(-62.66063137372182, 5.069795060492534)"
            ]
          },
          "metadata": {
            "tags": []
          },
          "execution_count": 57
        }
      ]
    },
    {
      "cell_type": "code",
      "metadata": {
        "id": "pv3I6SSneZ4f",
        "colab_type": "code",
        "colab": {
          "base_uri": "https://localhost:8080/",
          "height": 34
        },
        "outputId": "fdc56fa2-773a-4862-9a48-681dad0d475b"
      },
      "source": [
        "run_model(['manufacturer_cat','colors_cat', 'reviews_cat' ])"
      ],
      "execution_count": 60,
      "outputs": [
        {
          "output_type": "execute_result",
          "data": {
            "text/plain": [
              "(-62.95935784316585, 4.964215571176117)"
            ]
          },
          "metadata": {
            "tags": []
          },
          "execution_count": 60
        }
      ]
    },
    {
      "cell_type": "code",
      "metadata": {
        "id": "vsUOPj1Teq0m",
        "colab_type": "code",
        "colab": {
          "base_uri": "https://localhost:8080/",
          "height": 34
        },
        "outputId": "fb6e1d81-0bf7-4baf-b826-305303cec164"
      },
      "source": [
        "run_model(['colors_cat', 'reviews_cat' ])"
      ],
      "execution_count": 62,
      "outputs": [
        {
          "output_type": "execute_result",
          "data": {
            "text/plain": [
              "(-62.63367334582081, 5.150640121359876)"
            ]
          },
          "metadata": {
            "tags": []
          },
          "execution_count": 62
        }
      ]
    },
    {
      "cell_type": "code",
      "metadata": {
        "id": "oqHmTmuWfEoI",
        "colab_type": "code",
        "colab": {
          "base_uri": "https://localhost:8080/",
          "height": 34
        },
        "outputId": "7b3da3b1-cdb1-47e0-f647-de1a4a02c9d9"
      },
      "source": [
        "run_model(['reviews_cat' ])"
      ],
      "execution_count": 64,
      "outputs": [
        {
          "output_type": "execute_result",
          "data": {
            "text/plain": [
              "(-66.02466875768071, 2.410618154416749)"
            ]
          },
          "metadata": {
            "tags": []
          },
          "execution_count": 64
        }
      ]
    },
    {
      "cell_type": "code",
      "metadata": {
        "id": "793JqaJqfKmv",
        "colab_type": "code",
        "colab": {
          "base_uri": "https://localhost:8080/",
          "height": 34
        },
        "outputId": "7556f9ba-b8ec-4e3e-972a-d9705dff813c"
      },
      "source": [
        "run_model(['colors_cat' ])"
      ],
      "execution_count": 65,
      "outputs": [
        {
          "output_type": "execute_result",
          "data": {
            "text/plain": [
              "(-62.72404880129134, 5.053649873215771)"
            ]
          },
          "metadata": {
            "tags": []
          },
          "execution_count": 65
        }
      ]
    },
    {
      "cell_type": "code",
      "metadata": {
        "id": "x7tmE588kprM",
        "colab_type": "code",
        "colab": {
          "base_uri": "https://localhost:8080/",
          "height": 34
        },
        "outputId": "eb37ad1d-3f08-4efd-bacb-2b2318bce984"
      },
      "source": [
        "cd \"/content/drive/My Drive/Colab Notebooks\""
      ],
      "execution_count": 104,
      "outputs": [
        {
          "output_type": "stream",
          "text": [
            "/content/drive/My Drive/Colab Notebooks\n"
          ],
          "name": "stdout"
        }
      ]
    },
    {
      "cell_type": "code",
      "metadata": {
        "id": "0RKJRAkekVMj",
        "colab_type": "code",
        "colab": {
          "base_uri": "https://localhost:8080/",
          "height": 67
        },
        "outputId": "6c92c4e7-0ddb-45df-dab6-35d02e320af0"
      },
      "source": [
        "ls\n"
      ],
      "execution_count": 105,
      "outputs": [
        {
          "output_type": "stream",
          "text": [
            " ColabDriveGithub.ipynb      M1D4.ipynb          W2D4_cifar.ipynb\n",
            "'Copy of W2D4_cifar.ipynb'  ' M1D4_meta.ipynb'   W2D5.ipynb\n",
            " \u001b[0m\u001b[01;34mDW_MATRIX\u001b[0m/                  Untitled0.ipynb     W3D4.ipynb\n"
          ],
          "name": "stdout"
        }
      ]
    },
    {
      "cell_type": "code",
      "metadata": {
        "id": "P60FuyFDkopS",
        "colab_type": "code",
        "colab": {
          "base_uri": "https://localhost:8080/",
          "height": 34
        },
        "outputId": "00a123c6-e270-46da-9c21-e9bcba00d377"
      },
      "source": [
        "ls DW_MATRIX/"
      ],
      "execution_count": 128,
      "outputs": [
        {
          "output_type": "stream",
          "text": [
            "ConnectGithub.ipynb  \u001b[0m\u001b[01;34mdata\u001b[0m/  LICENSE  M1D4.ipynb  \u001b[01;34mmatrix_one\u001b[0m/  README.md\n"
          ],
          "name": "stdout"
        }
      ]
    },
    {
      "cell_type": "code",
      "metadata": {
        "id": "b8EpEMIJiesQ",
        "colab_type": "code",
        "colab": {}
      },
      "source": [
        "  !git config --global user.email \"dominikpawelstepien@gmail.com\\m\"\n",
        "  !git config --global user.name \"inzbomba\""
      ],
      "execution_count": 0,
      "outputs": []
    },
    {
      "cell_type": "code",
      "metadata": {
        "id": "E31AJWoNtv4V",
        "colab_type": "code",
        "colab": {
          "base_uri": "https://localhost:8080/",
          "height": 34
        },
        "outputId": "ff6edacc-afd2-4653-d01c-e3ab068cdfbc"
      },
      "source": [
        "ls DW_MATRIX/"
      ],
      "execution_count": 131,
      "outputs": [
        {
          "output_type": "stream",
          "text": [
            "ConnectGithub.ipynb  \u001b[0m\u001b[01;34mdata\u001b[0m/  LICENSE  M1D4.ipynb  \u001b[01;34mmatrix_one\u001b[0m/  README.md\n"
          ],
          "name": "stdout"
        }
      ]
    },
    {
      "cell_type": "code",
      "metadata": {
        "id": "RzKW4qyKiG-p",
        "colab_type": "code",
        "colab": {
          "base_uri": "https://localhost:8080/",
          "height": 50
        },
        "outputId": "0b323e65-86ba-4e25-f34e-cefd08a7ef59"
      },
      "source": [
        "!git add DW_MATRIX/M1D4.ipynb\n"
      ],
      "execution_count": 129,
      "outputs": [
        {
          "output_type": "stream",
          "text": [
            "fatal: not a git repository (or any parent up to mount point /content)\n",
            "Stopping at filesystem boundary (GIT_DISCOVERY_ACROSS_FILESYSTEM not set).\n"
          ],
          "name": "stdout"
        }
      ]
    },
    {
      "cell_type": "code",
      "metadata": {
        "id": "zHRdvZJTmXng",
        "colab_type": "code",
        "colab": {
          "base_uri": "https://localhost:8080/",
          "height": 50
        },
        "outputId": "e849b049-ab23-48d6-e941-6e021cdee96c"
      },
      "source": [
        "!git add M1D4.ipynb"
      ],
      "execution_count": 130,
      "outputs": [
        {
          "output_type": "stream",
          "text": [
            "fatal: not a git repository (or any parent up to mount point /content)\n",
            "Stopping at filesystem boundary (GIT_DISCOVERY_ACROSS_FILESYSTEM not set).\n"
          ],
          "name": "stdout"
        }
      ]
    },
    {
      "cell_type": "code",
      "metadata": {
        "id": "QolQBI-8jtOz",
        "colab_type": "code",
        "colab": {
          "base_uri": "https://localhost:8080/",
          "height": 50
        },
        "outputId": "1eaed3c7-87b5-479f-a008-c232a165a567"
      },
      "source": [
        "!git commit -m \"Analyze data using ML - Men's Shoe Prices from data.world\""
      ],
      "execution_count": 84,
      "outputs": [
        {
          "output_type": "stream",
          "text": [
            "fatal: not a git repository (or any parent up to mount point /content)\n",
            "Stopping at filesystem boundary (GIT_DISCOVERY_ACROSS_FILESYSTEM not set).\n"
          ],
          "name": "stdout"
        }
      ]
    },
    {
      "cell_type": "code",
      "metadata": {
        "id": "3GhoNHETiaZw",
        "colab_type": "code",
        "colab": {
          "base_uri": "https://localhost:8080/",
          "height": 50
        },
        "outputId": "7729a07f-9cf3-4faa-ee09-19a3d9f49da1"
      },
      "source": [
        "!git push -u origin master"
      ],
      "execution_count": 85,
      "outputs": [
        {
          "output_type": "stream",
          "text": [
            "fatal: not a git repository (or any parent up to mount point /content)\n",
            "Stopping at filesystem boundary (GIT_DISCOVERY_ACROSS_FILESYSTEM not set).\n"
          ],
          "name": "stdout"
        }
      ]
    }
  ]
}